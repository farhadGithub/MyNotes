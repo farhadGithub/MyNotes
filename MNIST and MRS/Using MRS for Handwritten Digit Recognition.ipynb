{
 "cells": [
  {
   "cell_type": "markdown",
   "metadata": {},
   "source": [
    "# Using MRS for Handwritten Digit Recognition\n",
    "\n",
    "    \n",
    "One of the main challenges in applying machine learning to computer vision applications is the lack of sufficient labeled data. In the absence of labeled data, one has to rely on unsupervised learning techniques to address computer vision problems. In this project, we consider the problem of handwritten digit recognition and investigate how much the accuracy of our unsupervised solution can be improved if we have access to a very limited labeled images (~%1.5) in our training data compared to the situation where there is no labeled data. We show that with integrating this small number of labeled images, the accuracy increases by about 4%.\n",
    "\n",
    "Dataset\n",
    "-------\n",
    "\n",
    "In this project, we work with the [MNIST dataset](http://yann.lecun.com/exdb/mnist/). This dataset contains 60,000 28x28 handwritten images of digits 0 to 9. All these images are labeled. However, one should note that since the digits are handwritten, there are ample cases in the dataset that it is even difficult for a human eye to identify the digit. In this project, aside from 100 labeled images, we ignore labels and only use them to calculate the accuracy of the results.   \n",
    "\n",
    "\n",
    "\n",
    "Tool\n",
    "----\n",
    "\n",
    "The entire project is developed in this notebook where we have employed Microsoft R Server (MRS) functions and its XDF format for data management. \n",
    "\n",
    "\n",
    "Methodology\n",
    "-----------\n",
    "\n",
    " * Read the data and convert it to the XDF dataframe. This dataframe has 785 columns (784 columns for each pixel in the image and one column for the label).\n",
    "  \n",
    " * Run the MRS Kmeans (rxKmeans) function on the dataframe where 10 clusters are considered and the center of each cluster is initialized randomly.\n",
    " \n",
    " * Run the MRS Kmeans (rxKmeans) function on the dataframe where 10 clusters are considered but the center of each cluster is based on an \"average\" image created from 10 images with the same label.\n",
    " \n",
    " * Calculate the overall accuracy and the accuracy for each digit under both scenarios. \n",
    "\n"
   ]
  },
  {
   "cell_type": "code",
   "execution_count": 85,
   "metadata": {
    "collapsed": false
   },
   "outputs": [],
   "source": [
    "# Functions to read data files and plot images\n",
    "load_image_file <- function(filename) \n",
    "{\n",
    "    f = file(filename,'rb')\n",
    "    readBin(f,'integer',n=1,size=4,endian='big')\n",
    "    m = readBin(f,'integer',n=1,size=4,endian='big')\n",
    "    nrow = readBin(f,'integer',n=1,size=4,endian='big')\n",
    "    ncol = readBin(f,'integer',n=1,size=4,endian='big')\n",
    "    x = readBin(f,'integer',n=m*nrow*ncol,size=1,signed=F)\n",
    "    pixels = data.frame(matrix(x, ncol=nrow*ncol, byrow=T))\n",
    "    close(f)\n",
    "    pixels\n",
    "}\n",
    "  \n",
    "load_label_file <- function(filename) \n",
    "{\n",
    "    f = file(filename,'rb')\n",
    "    readBin(f,'integer',n=1,size=4,endian='big')\n",
    "    n = readBin(f,'integer',n=1,size=4,endian='big')\n",
    "    y = readBin(f,'integer',n=n,size=1,signed=F)\n",
    "    close(f)\n",
    "    y\n",
    "}\n",
    "\n",
    "train <- load_image_file('Train/train-images.idx3-ubyte')\n",
    "test <- load_image_file('Test/t10k-images.idx3-ubyte')\n",
    "  \n",
    "train$y <- load_label_file('Train/train-labels.idx1-ubyte')\n",
    "test$y <- load_label_file('Test/t10k-labels.idx1-ubyte')  \n",
    "\n",
    "show_digit <- function(arr, col=gray(12:1/12), ...) \n",
    "{\n",
    "  image(matrix(arr, nrow=28)[,28:1], col=col, axes = FALSE)\n",
    "}    "
   ]
  },
  {
   "cell_type": "code",
   "execution_count": 48,
   "metadata": {
    "collapsed": false
   },
   "outputs": [
    {
     "data": {
      "text/html": [
       "<ol class=list-inline>\n",
       "\t<li>60000</li>\n",
       "\t<li>785</li>\n",
       "</ol>\n"
      ],
      "text/latex": [
       "\\begin{enumerate*}\n",
       "\\item 60000\n",
       "\\item 785\n",
       "\\end{enumerate*}\n"
      ],
      "text/markdown": [
       "1. 60000\n",
       "2. 785\n",
       "\n",
       "\n"
      ],
      "text/plain": [
       "[1] 60000   785"
      ]
     },
     "execution_count": 48,
     "metadata": {},
     "output_type": "execute_result"
    }
   ],
   "source": [
    "# Display size of training data\n",
    "dim(train)"
   ]
  },
  {
   "cell_type": "code",
   "execution_count": 225,
   "metadata": {
    "collapsed": false
   },
   "outputs": [
    {
     "data": {
      "image/png": "[encoded data removed]"
     },
     "metadata": {},
     "output_type": "display_data"
    }
   ],
   "source": [
    "# Display first 9 images\n",
    "library(repr)\n",
    "options(repr.plot.width=3,repr.plot.height=3)\n",
    "par(mfrow=c(3,3),mai=c(0,0,0,0),oma=c(1,0,1,0),cex=0.8)\n",
    "for(i in 1:9)\n",
    "{\n",
    "    show_digit(as.numeric(train[i,1:784]))    \n",
    "}\n",
    "title(\"First 9 Samples in Training Dataset\", outer=TRUE)"
   ]
  },
  {
   "cell_type": "code",
   "execution_count": 115,
   "metadata": {
    "collapsed": false
   },
   "outputs": [
    {
     "name": "stdout",
     "output_type": "stream",
     "text": [
      "Rows Read: 60000, Total Rows Processed: 60000, Total Chunk Time: 1.558 seconds \n",
      "Rows Read: 10000, Total Rows Processed: 10000, Total Chunk Time: 0.328 seconds \n"
     ]
    }
   ],
   "source": [
    "# Convert files to xdf\n",
    "data.path <- \"../\"\n",
    "trainXdf <- file.path(data.path, \"train.xdf\")\n",
    "testXdf <- file.path(data.path, \"test.xdf\")\n",
    "rxImport(inData=train, outFile = trainXdf, overwrite=TRUE)\n",
    "rxImport(inData=test, outFile = testXdf, overwrite=TRUE)"
   ]
  },
  {
   "cell_type": "code",
   "execution_count": 167,
   "metadata": {
    "collapsed": false
   },
   "outputs": [],
   "source": [
    "# Run clustering algorithm with random initialization\n",
    "infile <- file.path(data.path, \"train.xdf\") \n",
    "trainXdf <- RxXdfData(file = infile)\n",
    "trainClustersNoCenterXdf <- file.path(output.path, \"trainClustersNoCenter.xdf\")\n",
    "vars <- rxGetVarNames(trainXdf)\n",
    "vars <- vars[!vars  %in% c(\"y\")]\n",
    "formula <- as.formula(paste(\"~\", paste(vars, collapse = \"+\")))\n",
    "trainClustersNoCenter <- rxKmeans(formula = formula, \n",
    "                          data = trainXdf, numClusters = 10, outColName = 'predClusterNoCenter',\n",
    "                          outFile = trainClustersNoCenterXdf, writeModelVars = TRUE,\n",
    "                          extraVarsToWrite = \"randSamp\", maxIterations = 100000, \n",
    "                          overwrite = TRUE, reportProgress = 0\n",
    "                          )"
   ]
  },
  {
   "cell_type": "code",
   "execution_count": 194,
   "metadata": {
    "collapsed": false
   },
   "outputs": [
    {
     "name": "stdout",
     "output_type": "stream",
     "text": [
      "\r",
      "Rows Processed: 60000\n",
      "Time to read data file: 0.01 secs.\n",
      "Time to convert to data frame: less than .001 secs.\n"
     ]
    }
   ],
   "source": [
    "# Obtain cluster numbers\n",
    "trainClustersNoCenterDF <- rxXdfToDataFrame(file = trainClustersNoCenterXdf,varsToKeep = 'predClusterNoCenter')\n",
    "train$pred1 <- trainClustersNoCenterDF$predClusterNoCenter"
   ]
  },
  {
   "cell_type": "code",
   "execution_count": 293,
   "metadata": {
    "collapsed": false
   },
   "outputs": [
    {
     "data": {
      "image/png": "[encoded data removed]"
     },
     "metadata": {},
     "output_type": "display_data"
    },
    {
     "data": {
      "image/png": "[encoded data removed]"
     },
     "metadata": {},
     "output_type": "display_data"
    }
   ],
   "source": [
    "# Plot clusters\n",
    "options(repr.plot.width=3,repr.plot.height=3)\n",
    "c = 3\n",
    "{\n",
    "    par(mfrow=c(3,3),mai=c(0,0,0,0),oma=c(1,0,1,0),cex=0.8)\n",
    "    indeces <- which(train$pred1==c)[60:68]\n",
    "    for(i in indeces)\n",
    "    {\n",
    "        show_digit(as.numeric(train[i,1:784]))    \n",
    "    }\n",
    "    title(paste(\"Cluster \",c), outer=TRUE)\n",
    "}\n",
    "c = 2\n",
    "{\n",
    "    par(mfrow=c(3,3),mai=c(0,0,0,0),oma=c(1,0,1,0),cex=0.8)\n",
    "    indeces <- which(train$pred1==c)[60:68]\n",
    "    for(i in indeces)\n",
    "    {\n",
    "        show_digit(as.numeric(train[i,1:784]))    \n",
    "    }\n",
    "    title(paste(\"Cluster \",c), outer=TRUE)\n",
    "}"
   ]
  },
  {
   "cell_type": "code",
   "execution_count": 278,
   "metadata": {
    "collapsed": false
   },
   "outputs": [],
   "source": [
    "# Run clustering algorithm with defined centers\n",
    "vec = c()\n",
    "for (c in 0:9)\n",
    "{\n",
    "    indeces <- which(train$y==c)[1:10]\n",
    "    s <- as.numeric(colSums(train[indeces,1:784]))/10\n",
    "    vec <- c(vec,s)\n",
    "}\n",
    "centers = t(matrix(vec,nrow=784,ncol=10))\n",
    "trainClustersCenterXdf <- file.path(output.path, \"trainClustersCenter.xdf\")\n",
    "trainClustersCenter <- rxKmeans(formula = formula, \n",
    "                          data = trainXdf, outColName = 'predClusterCenter',\n",
    "                          outFile = trainClustersCenterXdf, writeModelVars = TRUE,\n",
    "                          extraVarsToWrite = \"randSamp\", maxIterations = 100000, centers = centers,\n",
    "                          overwrite = TRUE, reportProgress = 0\n",
    "                          )"
   ]
  },
  {
   "cell_type": "code",
   "execution_count": 279,
   "metadata": {
    "collapsed": false
   },
   "outputs": [
    {
     "name": "stdout",
     "output_type": "stream",
     "text": [
      "\r",
      "Rows Processed: 60000\n",
      "Time to read data file: 0.01 secs.\n",
      "Time to convert to data frame: less than .001 secs.\n"
     ]
    }
   ],
   "source": [
    "# Obtain cluster numbers\n",
    "trainClustersCenterDF <- rxXdfToDataFrame(file = trainClustersCenterXdf,varsToKeep = 'predClusterCenter')\n",
    "train$pred2 <- trainClustersCenterDF$predClusterCenter"
   ]
  },
  {
   "cell_type": "code",
   "execution_count": 294,
   "metadata": {
    "collapsed": false
   },
   "outputs": [
    {
     "data": {
      "image/png": "[encoded data removed]"
     },
     "metadata": {},
     "output_type": "display_data"
    },
    {
     "data": {
      "image/png": "[encoded data removed]"
     },
     "metadata": {},
     "output_type": "display_data"
    }
   ],
   "source": [
    "# Plot clusters\n",
    "options(repr.plot.width=3,repr.plot.height=3)\n",
    "c = 1\n",
    "{\n",
    "    par(mfrow=c(3,3),mai=c(0,0,0,0),oma=c(1,0,1,0),cex=0.8)\n",
    "    indeces <- which(train$pred2==c)[60:68]\n",
    "    for(i in indeces)\n",
    "    {\n",
    "        show_digit(as.numeric(train[i,1:784]))    \n",
    "    }\n",
    "    title(paste(\"Cluster \",c), outer=TRUE)\n",
    "}\n",
    "c = 7\n",
    "{\n",
    "    par(mfrow=c(3,3),mai=c(0,0,0,0),oma=c(1,0,1,0),cex=0.8)\n",
    "    indeces <- which(train$pred2==c)[60:68]\n",
    "    for(i in indeces)\n",
    "    {\n",
    "        show_digit(as.numeric(train[i,1:784]))    \n",
    "    }\n",
    "    title(paste(\"Cluster \",c), outer=TRUE)\n",
    "}"
   ]
  },
  {
   "cell_type": "code",
   "execution_count": 314,
   "metadata": {
    "collapsed": false
   },
   "outputs": [
    {
     "name": "stdout",
     "output_type": "stream",
     "text": [
      "Overall Accuracy When Kmeans Initialized by Random Centers:  0.59475 \n",
      "Overall Accuracy When Kmeans Initialized by Label-Based Centers:  0.6368833"
     ]
    },
    {
     "data": {
      "text/html": [
       "<table>\n",
       "<thead><tr><th></th><th scope=col>Total Number of Samples</th><th scope=col>Accuracy Based on Random Centers</th><th scope=col>Accuracy Based on Labeled Samples</th></tr></thead>\n",
       "<tbody>\n",
       "\t<tr><th scope=row>0</th><td>5923</td><td>0.4541617</td><td>0.7040351</td></tr>\n",
       "\t<tr><th scope=row>1</th><td>6742</td><td>0.9811629</td><td>0.9829427</td></tr>\n",
       "\t<tr><th scope=row>2</th><td>5958</td><td>0.7059416</td><td>0.6968781</td></tr>\n",
       "\t<tr><th scope=row>3</th><td>6131</td><td>0.6504649</td><td>0.6396999</td></tr>\n",
       "\t<tr><th scope=row>4</th><td>5842</td><td>0.5285861</td><td>0.4856214</td></tr>\n",
       "\t<tr><th scope=row>5</th><td>5421</td><td>0.3327799</td><td>0.3349935</td></tr>\n",
       "\t<tr><th scope=row>6</th><td>5918</td><td>0.5287259</td><td>0.6840149</td></tr>\n",
       "\t<tr><th scope=row>7</th><td>6265</td><td>0.590423</td><td>0.6778931</td></tr>\n",
       "\t<tr><th scope=row>8</th><td>5851</td><td>0.5940865</td><td>0.5961374</td></tr>\n",
       "\t<tr><th scope=row>9</th><td>5949</td><td>0.5026055</td><td>0.4884855</td></tr>\n",
       "</tbody>\n",
       "</table>\n"
      ],
      "text/latex": [
       "\\begin{tabular}{r|lll}\n",
       "  & Total Number of Samples & Accuracy Based on Random Centers & Accuracy Based on Labeled Samples\\\\\n",
       "\\hline\n",
       "\t0 & 5923 & 0.4541617 & 0.7040351\\\\\n",
       "\t1 & 6742 & 0.9811629 & 0.9829427\\\\\n",
       "\t2 & 5958 & 0.7059416 & 0.6968781\\\\\n",
       "\t3 & 6131 & 0.6504649 & 0.6396999\\\\\n",
       "\t4 & 5842 & 0.5285861 & 0.4856214\\\\\n",
       "\t5 & 5421 & 0.3327799 & 0.3349935\\\\\n",
       "\t6 & 5918 & 0.5287259 & 0.6840149\\\\\n",
       "\t7 & 6265 & 0.590423 & 0.6778931\\\\\n",
       "\t8 & 5851 & 0.5940865 & 0.5961374\\\\\n",
       "\t9 & 5949 & 0.5026055 & 0.4884855\\\\\n",
       "\\end{tabular}\n"
      ],
      "text/plain": [
       "  Total Number of Samples Accuracy Based on Random Centers\n",
       "0                    5923                        0.4541617\n",
       "1                    6742                        0.9811629\n",
       "2                    5958                        0.7059416\n",
       "3                    6131                        0.6504649\n",
       "4                    5842                        0.5285861\n",
       "5                    5421                        0.3327799\n",
       "6                    5918                        0.5287259\n",
       "7                    6265                        0.5904230\n",
       "8                    5851                        0.5940865\n",
       "9                    5949                        0.5026055\n",
       "  Accuracy Based on Labeled Samples\n",
       "0                         0.7040351\n",
       "1                         0.9829427\n",
       "2                         0.6968781\n",
       "3                         0.6396999\n",
       "4                         0.4856214\n",
       "5                         0.3349935\n",
       "6                         0.6840149\n",
       "7                         0.6778931\n",
       "8                         0.5961374\n",
       "9                         0.4884855"
      ]
     },
     "execution_count": 314,
     "metadata": {},
     "output_type": "execute_result"
    }
   ],
   "source": [
    "# Calculate accuracy\n",
    "accuracy <- as.data.frame.matrix(table(train$y,train$pred1))\n",
    "accuracy[, \"Total Number of Samples\"] <- apply(accuracy[, 1:10], 1, sum)\n",
    "accuracy[, \"Accuracy Based on Random Centers\"] <- apply(accuracy[, 1:10], 1, max)\n",
    "randomCenterCorrect = sum(accuracy[, \"Accuracy Based on Random Centers\"])\n",
    "totalSample = sum(accuracy[, \"Total Number of Samples\"])\n",
    "accuracy[, \"Accuracy Based on Random Centers\"] <- \n",
    "        accuracy[, \"Accuracy Based on Random Centers\"]/accuracy[, \"Total Number of Samples\"]\n",
    "\n",
    "temp <- as.data.frame.matrix(table(train$y,train$pred2))\n",
    "accuracy[, \"Accuracy Based on Labeled Samples\"] <- apply(temp[, 1:10], 1, max)\n",
    "labelCenterCorrect = sum(accuracy[, \"Accuracy Based on Labeled Samples\"])\n",
    "accuracy[, \"Accuracy Based on Labeled Samples\"] <- \n",
    "        accuracy[, \"Accuracy Based on Labeled Samples\"]/accuracy[, \"Total Number of Samples\"]\n",
    "accuracy <- accuracy[-c(1:10)]\n",
    "cat(\"Overall Accuracy When Kmeans Initialized by Random Centers: \", randomCenterCorrect/totalSample,\"\\n\")\n",
    "cat(\"Overall Accuracy When Kmeans Initialized by Label-Based Centers: \", labelCenterCorrect/totalSample)\n",
    "accuracy"
   ]
  }
 ],
 "metadata": {
  "kernelspec": {
   "display_name": "R",
   "language": "R",
   "name": "ir"
  },
  "language_info": {
   "codemirror_mode": "r",
   "file_extension": ".r",
   "mimetype": "text/x-r-source",
   "name": "R",
   "pygments_lexer": "r",
   "version": "3.2.2"
  }
 },
 "nbformat": 4,
 "nbformat_minor": 0
}
